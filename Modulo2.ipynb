{
 "cells": [
  {
   "cell_type": "markdown",
   "id": "310d9222-de03-4931-a8bf-40977d7ae576",
   "metadata": {},
   "source": [
    "The essentials of Data Science"
   ]
  },
  {
   "cell_type": "markdown",
   "id": "fa68530b-bf84-432b-85a7-a8a87228582d",
   "metadata": {},
   "source": [
    "In the next Jupyter Notebook will see tools and ecosystem of Data Science"
   ]
  },
  {
   "cell_type": "markdown",
   "id": "151162e4-541b-4b9e-96e4-108d933a4dd4",
   "metadata": {},
   "source": [
    "The most common program languages for Data Science are:\n",
    "1. Python\n",
    "2. R\n",
    "3. SQL"
   ]
  },
  {
   "cell_type": "markdown",
   "id": "8066f221-0eaf-4581-a882-9f80f111330b",
   "metadata": {},
   "source": [
    "The most common libraries for Data Science are:\n",
    "1. Pandas\n",
    "2. Numpy\n",
    "3. Mathplotlib"
   ]
  },
  {
   "cell_type": "markdown",
   "id": "4f6337fe-42e1-4a9e-b500-ba0ee2d074d4",
   "metadata": {},
   "source": [
    "| Data Science Tools |\n",
    "|--------------------|\n",
    "| Jupyter Notebook  |\n",
    "| RStudio           |\n",
    "| Apache Zeppelin   |\n"
   ]
  },
  {
   "cell_type": "markdown",
   "id": "2244bdaf-4081-4638-890d-ddc5bc3abd44",
   "metadata": {},
   "source": [
    "### Below are a few examples of evaluating arithmetic expressions in Python.\n"
   ]
  },
  {
   "cell_type": "code",
   "execution_count": 17,
   "id": "61dae43c-33ff-4bd3-993f-fb52ccc06781",
   "metadata": {},
   "outputs": [
    {
     "data": {
      "text/plain": [
       "17"
      ]
     },
     "execution_count": 17,
     "metadata": {},
     "output_type": "execute_result"
    }
   ],
   "source": [
    "(3*4)+5\n",
    "#This a simple arithmetic expression to mutiply then add integers"
   ]
  },
  {
   "cell_type": "code",
   "execution_count": 21,
   "id": "e064c447-c9a9-4a93-b894-0d4ed4ec9409",
   "metadata": {},
   "outputs": [
    {
     "name": "stdout",
     "output_type": "stream",
     "text": [
      "200 minutes are 3.3333333333333335 hours\n"
     ]
    }
   ],
   "source": [
    "print(\"200 minutes are\", 200/60, \"hours\")\n",
    "#This will convert 200 minutes to hours by diving by 60"
   ]
  },
  {
   "cell_type": "markdown",
   "id": "85378cc0-3a5b-4f92-b547-fd354d49ddc8",
   "metadata": {},
   "source": [
    "**Objectives:**\n",
    "- List popular languages for Data Science  \n",
    "- Identify open-source tools used in Data Science  \n",
    "- Demonstrate how to evaluate arithmetic expressions in Python  \n",
    "- Understand the basics of Jupyter Notebook Markdown formatting  "
   ]
  },
  {
   "cell_type": "markdown",
   "id": "b0a42515-f07b-44b2-8951-4c1cce5274ac",
   "metadata": {},
   "source": [
    "## Author  \n",
    "Anibal Muñoz\n"
   ]
  },
  {
   "cell_type": "code",
   "execution_count": null,
   "id": "1bbc6c93-7590-49c3-8923-010dec2c7596",
   "metadata": {},
   "outputs": [],
   "source": []
  }
 ],
 "metadata": {
  "kernelspec": {
   "display_name": "Python [conda env:base] *",
   "language": "python",
   "name": "conda-base-py"
  },
  "language_info": {
   "codemirror_mode": {
    "name": "ipython",
    "version": 3
   },
   "file_extension": ".py",
   "mimetype": "text/x-python",
   "name": "python",
   "nbconvert_exporter": "python",
   "pygments_lexer": "ipython3",
   "version": "3.12.7"
  }
 },
 "nbformat": 4,
 "nbformat_minor": 5
}
